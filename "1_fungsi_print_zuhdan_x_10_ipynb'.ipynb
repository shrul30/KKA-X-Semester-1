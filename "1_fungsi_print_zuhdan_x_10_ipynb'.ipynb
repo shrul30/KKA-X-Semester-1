{
  "nbformat": 4,
  "nbformat_minor": 0,
  "metadata": {
    "colab": {
      "provenance": [],
      "authorship_tag": "ABX9TyOQdy3l0nSoOgKyghyg1vN5",
      "include_colab_link": true
    },
    "kernelspec": {
      "name": "python3",
      "display_name": "Python 3"
    },
    "language_info": {
      "name": "python"
    }
  },
  "cells": [
    {
      "cell_type": "markdown",
      "metadata": {
        "id": "view-in-github",
        "colab_type": "text"
      },
      "source": [
        "<a href=\"https://colab.research.google.com/github/shrul30/KKA-X-Semester-1/blob/main/%221_fungsi_print_zuhdan_x_10_ipynb'.ipynb\" target=\"_parent\"><img src=\"https://colab.research.google.com/assets/colab-badge.svg\" alt=\"Open In Colab\"/></a>"
      ]
    },
    {
      "cell_type": "markdown",
      "source": [
        "#1.Menampilkan Teks Bebas"
      ],
      "metadata": {
        "id": "Jd8joS2UqASD"
      }
    },
    {
      "cell_type": "code",
      "source": [
        "print(\"Helo world!\")"
      ],
      "metadata": {
        "colab": {
          "base_uri": "https://localhost:8080/"
        },
        "id": "AhzLf3I1qHFf",
        "outputId": "b7aac975-b17c-47af-f352-6f985ab9d75a"
      },
      "execution_count": null,
      "outputs": [
        {
          "output_type": "stream",
          "name": "stdout",
          "text": [
            "Helo world!\n"
          ]
        }
      ]
    },
    {
      "cell_type": "markdown",
      "source": [
        "#2.Menampilkan Nilai Variabel"
      ],
      "metadata": {
        "id": "x_Wrbd_zqP3g"
      }
    },
    {
      "cell_type": "code",
      "source": [
        "usia = 16"
      ],
      "metadata": {
        "id": "1lHi1htcqTOm"
      },
      "execution_count": null,
      "outputs": []
    },
    {
      "cell_type": "code",
      "source": [
        "print(usia)"
      ],
      "metadata": {
        "colab": {
          "base_uri": "https://localhost:8080/"
        },
        "id": "49luD7Yqqbkb",
        "outputId": "f94fde7a-4785-46c9-af4c-976c9980bd39"
      },
      "execution_count": null,
      "outputs": [
        {
          "output_type": "stream",
          "name": "stdout",
          "text": [
            "16\n"
          ]
        }
      ]
    },
    {
      "cell_type": "code",
      "source": [
        "bb = 45"
      ],
      "metadata": {
        "id": "5rfxofiQ2w28"
      },
      "execution_count": null,
      "outputs": []
    },
    {
      "cell_type": "code",
      "source": [
        "Nama = \"ZUHDAN SHRUL HAJJ\"\n",
        "\n",
        "print(Nama)"
      ],
      "metadata": {
        "colab": {
          "base_uri": "https://localhost:8080/"
        },
        "id": "sXiRUBwM2zjW",
        "outputId": "77134d21-0013-4c2f-d7a1-9459da7e856a"
      },
      "execution_count": null,
      "outputs": [
        {
          "output_type": "stream",
          "name": "stdout",
          "text": [
            "ZUHDAN SHRUL HAJJ\n"
          ]
        }
      ]
    },
    {
      "cell_type": "markdown",
      "source": [
        "#3.Menampilkan Teks Bebas dan Nilai Variabel"
      ],
      "metadata": {
        "id": "EmsfXkiL3IUF"
      }
    },
    {
      "cell_type": "code",
      "source": [
        "print(f\"Perkenalkan nama saya {Nama}.\")"
      ],
      "metadata": {
        "colab": {
          "base_uri": "https://localhost:8080/"
        },
        "id": "0BGhQEpa3O85",
        "outputId": "64e78725-674b-487b-f6f0-15829aae9583"
      },
      "execution_count": null,
      "outputs": [
        {
          "output_type": "stream",
          "name": "stdout",
          "text": [
            "Perkenalkan nama saya ZUHDAN SHRUL HAJJ.\n"
          ]
        }
      ]
    },
    {
      "cell_type": "code",
      "source": [
        "print(\"Berat badan saya \" + str(bb) + \" Kg.\")"
      ],
      "metadata": {
        "colab": {
          "base_uri": "https://localhost:8080/"
        },
        "id": "Qjxtzd7w3fWf",
        "outputId": "da07df1d-c4c9-4d97-9225-74f85b2dd7d6"
      },
      "execution_count": null,
      "outputs": [
        {
          "output_type": "stream",
          "name": "stdout",
          "text": [
            "Berat badan saya 50 Kg.\n"
          ]
        }
      ]
    },
    {
      "cell_type": "markdown",
      "source": [
        "#4.Escape Character"
      ],
      "metadata": {
        "id": "weLBm7y235Uw"
      }
    },
    {
      "cell_type": "code",
      "source": [
        "print(\"Nama: ZUHDAN SHRUL HAJJ\\nKelas: X.10\\nNo. Absen: 36\")"
      ],
      "metadata": {
        "colab": {
          "base_uri": "https://localhost:8080/"
        },
        "id": "5fc77Roy38FX",
        "outputId": "15a8601e-2c96-473c-c644-a6810f5307c7"
      },
      "execution_count": null,
      "outputs": [
        {
          "output_type": "stream",
          "name": "stdout",
          "text": [
            "Nama: ZUHDAN SHRUL HAJJ\n",
            "Kelas: X.10\n",
            "No. Absen: 36\n"
          ]
        }
      ]
    },
    {
      "cell_type": "code",
      "source": [
        "print(\"\"\"Nama\\t\\t: ZUHDAN SHRUL HAJJ\n",
        "Kelas\\t\\t: X.10\n",
        "No. Absen\\t: 36\"\"\")"
      ],
      "metadata": {
        "colab": {
          "base_uri": "https://localhost:8080/"
        },
        "id": "A8tBjdUS4Ji0",
        "outputId": "d5f4faf4-6daa-425e-f145-76e55c691201"
      },
      "execution_count": null,
      "outputs": [
        {
          "output_type": "stream",
          "name": "stdout",
          "text": [
            "Nama\t\t: ZUHDAN SHRUL HAJJ\n",
            "Kelas\t\t: X.10\n",
            "No. Absen\t: 36\n"
          ]
        }
      ]
    },
    {
      "cell_type": "code",
      "source": [
        "print(\"Nama: cakrakan\\nKelas: X.10\\nNo. Absen: 36\")"
      ],
      "metadata": {
        "colab": {
          "base_uri": "https://localhost:8080/"
        },
        "id": "3Dq-D6GB4W98",
        "outputId": "48820ed5-bb58-49bb-ec1d-f42d14c9f76f"
      },
      "execution_count": null,
      "outputs": [
        {
          "output_type": "stream",
          "name": "stdout",
          "text": [
            "Nama: cakrakan\n",
            "Kelas: X.10\n",
            "No. Absen: 36\n"
          ]
        }
      ]
    },
    {
      "cell_type": "code",
      "source": [
        "print(\"Lokasi File Tugas KKA: Local Disk C:\\KKA\\Tugas Shinta\")"
      ],
      "metadata": {
        "colab": {
          "base_uri": "https://localhost:8080/"
        },
        "id": "Ci1K52TB4tCj",
        "outputId": "5f77687e-4acb-4263-a895-ade2583c56ac"
      },
      "execution_count": null,
      "outputs": [
        {
          "output_type": "stream",
          "name": "stdout",
          "text": [
            "Lokasi File Tugas KKA: Local Disk C:\\KKA\\Tugas Shinta\n"
          ]
        },
        {
          "output_type": "stream",
          "name": "stderr",
          "text": [
            "<>:1: SyntaxWarning: invalid escape sequence '\\K'\n",
            "<>:1: SyntaxWarning: invalid escape sequence '\\K'\n",
            "/tmp/ipython-input-1684903844.py:1: SyntaxWarning: invalid escape sequence '\\K'\n",
            "  print(\"Lokasi File Tugas KKA: Local Disk C:\\KKA\\Tugas Shinta\")\n"
          ]
        }
      ]
    },
    {
      "cell_type": "markdown",
      "source": [
        "#5.Parameter Fungsi print()"
      ],
      "metadata": {
        "id": "9wkDtu3x4zEq"
      }
    },
    {
      "cell_type": "code",
      "source": [
        "Tahun = 2009\n",
        "Bulan = \"Desember\"\n",
        "Tanggal = 9"
      ],
      "metadata": {
        "id": "7Hz2FEhD44GM"
      },
      "execution_count": null,
      "outputs": []
    },
    {
      "cell_type": "code",
      "source": [
        "print(Tahun, Bulan, Tanggal, sep=\"-\")"
      ],
      "metadata": {
        "colab": {
          "base_uri": "https://localhost:8080/"
        },
        "id": "6xo0MCcs5Dla",
        "outputId": "b4b7a576-5075-4f53-9163-f32d4790a22d"
      },
      "execution_count": null,
      "outputs": [
        {
          "output_type": "stream",
          "name": "stdout",
          "text": [
            "2009-Desember-9\n"
          ]
        }
      ]
    },
    {
      "cell_type": "code",
      "source": [
        "nama_depan = \"Zuhdan\"\n",
        "nama_belakang = \"shrul hajj\"\n",
        "\n",
        "print(nama_depan, end=\" \")\n",
        "print(nama_belakang)"
      ],
      "metadata": {
        "colab": {
          "base_uri": "https://localhost:8080/"
        },
        "id": "ZiPBTGDl5IHg",
        "outputId": "fed9641a-610d-4bc0-9fa2-d0c0690c82d8"
      },
      "execution_count": null,
      "outputs": [
        {
          "output_type": "stream",
          "name": "stdout",
          "text": [
            "Zuhdan shrul hajj\n"
          ]
        }
      ]
    },
    {
      "cell_type": "code",
      "source": [],
      "metadata": {
        "id": "morRdoMS5Tbe"
      },
      "execution_count": null,
      "outputs": []
    }
  ]
}